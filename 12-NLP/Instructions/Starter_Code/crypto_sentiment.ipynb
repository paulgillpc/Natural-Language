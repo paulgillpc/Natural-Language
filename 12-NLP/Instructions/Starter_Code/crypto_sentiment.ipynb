{
 "cells": [
  {
   "cell_type": "markdown",
   "metadata": {},
   "source": [
    "# Unit 12 - Tales from the Crypto\n",
    "\n",
    "---\n"
   ]
  },
  {
   "cell_type": "markdown",
   "metadata": {},
   "source": [
    "## 1. Sentiment Analysis\n",
    "\n",
    "Use the [newsapi](https://newsapi.org/) to pull the latest news articles for Bitcoin and Ethereum and create a DataFrame of sentiment scores for each coin.\n",
    "\n",
    "Use descriptive statistics to answer the following questions:\n",
    "1. Which coin had the highest mean positive score?\n",
    "2. Which coin had the highest negative score?\n",
    "3. Which coin had the highest positive score?"
   ]
  },
  {
   "cell_type": "code",
   "execution_count": 1,
   "metadata": {},
   "outputs": [
    {
     "name": "stderr",
     "output_type": "stream",
     "text": [
      "[nltk_data] Downloading package vader_lexicon to\n",
      "[nltk_data]     C:\\Users\\paulg\\AppData\\Roaming\\nltk_data...\n",
      "[nltk_data]   Package vader_lexicon is already up-to-date!\n"
     ]
    }
   ],
   "source": [
    "# Initial imports\n",
    "import os\n",
    "import pandas as pd\n",
    "from dotenv import load_dotenv\n",
    "import nltk as nltk\n",
    "nltk.download('vader_lexicon')\n",
    "from nltk.sentiment.vader import SentimentIntensityAnalyzer\n",
    "analyzer = SentimentIntensityAnalyzer()\n",
    "\n",
    "%matplotlib inline"
   ]
  },
  {
   "cell_type": "code",
   "execution_count": 2,
   "metadata": {},
   "outputs": [],
   "source": [
    "# Read your api key environment variable\n",
    "api_key = \"d42da132c423442e904c878a52413e87\" #os.getenv(\"NEWS_API\")\n",
    "#load_dotenv()"
   ]
  },
  {
   "cell_type": "code",
   "execution_count": 3,
   "metadata": {},
   "outputs": [],
   "source": [
    "# Create a newsapi client\n",
    "from newsapi import NewsApiClient\n",
    "newsapi = NewsApiClient(api_key=api_key)"
   ]
  },
  {
   "cell_type": "code",
   "execution_count": 4,
   "metadata": {},
   "outputs": [],
   "source": [
    "# Fetch the Bitcoin news articles\n",
    "btc_news = newsapi.get_everything(q='bitcoin AND Bitcoin',\n",
    "                            language='en',\n",
    "                            page_size=100,\n",
    "                            sort_by='relevancy')"
   ]
  },
  {
   "cell_type": "code",
   "execution_count": 5,
   "metadata": {},
   "outputs": [],
   "source": [
    "# Fetch the Ethereum news articles\n",
    "eth_news = newsapi.get_everything(q='ethereum AND Ethereum',\n",
    "                            language='en',\n",
    "                            page_size=100,\n",
    "                            sort_by='relevancy')"
   ]
  },
  {
   "cell_type": "code",
   "execution_count": 6,
   "metadata": {},
   "outputs": [],
   "source": [
    "#Define function to create dataframes from news api pull\n",
    "def create_df(news):\n",
    "    articles = []\n",
    "    for article in news:\n",
    "        try:\n",
    "            text = article['content']\n",
    "            articles.append({\n",
    "                'text': text,\n",
    "            })\n",
    "        except AttributeError:\n",
    "            pass\n",
    "\n",
    "    return pd.DataFrame(articles)"
   ]
  },
  {
   "cell_type": "code",
   "execution_count": 7,
   "metadata": {},
   "outputs": [
    {
     "data": {
      "text/html": [
       "<div>\n",
       "<style scoped>\n",
       "    .dataframe tbody tr th:only-of-type {\n",
       "        vertical-align: middle;\n",
       "    }\n",
       "\n",
       "    .dataframe tbody tr th {\n",
       "        vertical-align: top;\n",
       "    }\n",
       "\n",
       "    .dataframe thead th {\n",
       "        text-align: right;\n",
       "    }\n",
       "</style>\n",
       "<table border=\"1\" class=\"dataframe\">\n",
       "  <thead>\n",
       "    <tr style=\"text-align: right;\">\n",
       "      <th></th>\n",
       "      <th>text</th>\n",
       "    </tr>\n",
       "  </thead>\n",
       "  <tbody>\n",
       "    <tr>\n",
       "      <th>0</th>\n",
       "      <td>You won't have to stick to Bitcoin if you're d...</td>\n",
       "    </tr>\n",
       "    <tr>\n",
       "      <th>1</th>\n",
       "      <td>Four months after Twitter first introduced in-...</td>\n",
       "    </tr>\n",
       "    <tr>\n",
       "      <th>2</th>\n",
       "      <td>Its the countrys latest crackdown on digital c...</td>\n",
       "    </tr>\n",
       "    <tr>\n",
       "      <th>3</th>\n",
       "      <td>A recently-installed Bitcoin ATM.\\r\\n\\n \\n\\n A...</td>\n",
       "    </tr>\n",
       "    <tr>\n",
       "      <th>4</th>\n",
       "      <td>The government of El Salvador purchased at lea...</td>\n",
       "    </tr>\n",
       "  </tbody>\n",
       "</table>\n",
       "</div>"
      ],
      "text/plain": [
       "                                                text\n",
       "0  You won't have to stick to Bitcoin if you're d...\n",
       "1  Four months after Twitter first introduced in-...\n",
       "2  Its the countrys latest crackdown on digital c...\n",
       "3  A recently-installed Bitcoin ATM.\\r\\n\\n \\n\\n A...\n",
       "4  The government of El Salvador purchased at lea..."
      ]
     },
     "execution_count": 7,
     "metadata": {},
     "output_type": "execute_result"
    }
   ],
   "source": [
    "# Create dataframes for each topic\n",
    "btc_df = create_df(btc_news['articles'])\n",
    "btc_df.dropna(inplace=True)\n",
    "\n",
    "eth_df = create_df(eth_news['articles'])\n",
    "eth_df.dropna(inplace=True)\n",
    "\n",
    "btc_df.head()"
   ]
  },
  {
   "cell_type": "code",
   "execution_count": 8,
   "metadata": {},
   "outputs": [
    {
     "data": {
      "text/html": [
       "<div>\n",
       "<style scoped>\n",
       "    .dataframe tbody tr th:only-of-type {\n",
       "        vertical-align: middle;\n",
       "    }\n",
       "\n",
       "    .dataframe tbody tr th {\n",
       "        vertical-align: top;\n",
       "    }\n",
       "\n",
       "    .dataframe thead th {\n",
       "        text-align: right;\n",
       "    }\n",
       "</style>\n",
       "<table border=\"1\" class=\"dataframe\">\n",
       "  <thead>\n",
       "    <tr style=\"text-align: right;\">\n",
       "      <th></th>\n",
       "      <th>Article</th>\n",
       "      <th>Compound</th>\n",
       "      <th>Positive</th>\n",
       "      <th>Neutral</th>\n",
       "      <th>Negative</th>\n",
       "    </tr>\n",
       "  </thead>\n",
       "  <tbody>\n",
       "    <tr>\n",
       "      <th>0</th>\n",
       "      <td>You won't have to stick to Bitcoin if you're d...</td>\n",
       "      <td>0.5574</td>\n",
       "      <td>0.127</td>\n",
       "      <td>0.838</td>\n",
       "      <td>0.036</td>\n",
       "    </tr>\n",
       "    <tr>\n",
       "      <th>1</th>\n",
       "      <td>Four months after Twitter first introduced in-...</td>\n",
       "      <td>0.0000</td>\n",
       "      <td>0.000</td>\n",
       "      <td>1.000</td>\n",
       "      <td>0.000</td>\n",
       "    </tr>\n",
       "    <tr>\n",
       "      <th>2</th>\n",
       "      <td>Its the countrys latest crackdown on digital c...</td>\n",
       "      <td>0.0000</td>\n",
       "      <td>0.000</td>\n",
       "      <td>1.000</td>\n",
       "      <td>0.000</td>\n",
       "    </tr>\n",
       "    <tr>\n",
       "      <th>3</th>\n",
       "      <td>A recently-installed Bitcoin ATM.\\r\\n\\n \\n\\n A...</td>\n",
       "      <td>0.1779</td>\n",
       "      <td>0.052</td>\n",
       "      <td>0.948</td>\n",
       "      <td>0.000</td>\n",
       "    </tr>\n",
       "    <tr>\n",
       "      <th>4</th>\n",
       "      <td>The government of El Salvador purchased at lea...</td>\n",
       "      <td>0.1280</td>\n",
       "      <td>0.046</td>\n",
       "      <td>0.954</td>\n",
       "      <td>0.000</td>\n",
       "    </tr>\n",
       "  </tbody>\n",
       "</table>\n",
       "</div>"
      ],
      "text/plain": [
       "                                             Article  Compound  Positive  \\\n",
       "0  You won't have to stick to Bitcoin if you're d...    0.5574     0.127   \n",
       "1  Four months after Twitter first introduced in-...    0.0000     0.000   \n",
       "2  Its the countrys latest crackdown on digital c...    0.0000     0.000   \n",
       "3  A recently-installed Bitcoin ATM.\\r\\n\\n \\n\\n A...    0.1779     0.052   \n",
       "4  The government of El Salvador purchased at lea...    0.1280     0.046   \n",
       "\n",
       "   Neutral  Negative  \n",
       "0    0.838     0.036  \n",
       "1    1.000     0.000  \n",
       "2    1.000     0.000  \n",
       "3    0.948     0.000  \n",
       "4    0.954     0.000  "
      ]
     },
     "execution_count": 8,
     "metadata": {},
     "output_type": "execute_result"
    }
   ],
   "source": [
    "# Create the Bitcoin sentiment scores DataFrame\n",
    "\n",
    "# Sentiment scores dictionaries\n",
    "text_sent = {\n",
    "    'text_compound': [],\n",
    "    'text_pos': [],\n",
    "    'text_neu': [],\n",
    "    'text_neg': [],\n",
    "}\n",
    "\n",
    "# Get sentiment for the text and the title\n",
    "for index, row in btc_df.iterrows():\n",
    "    try:\n",
    "        text_sentiment = analyzer.polarity_scores(row['text'])\n",
    "        text_sent['text_compound'].append(text_sentiment['compound'])\n",
    "        text_sent['text_pos'].append(text_sentiment['pos'])\n",
    "        text_sent['text_neu'].append(text_sentiment['neu'])\n",
    "        text_sent['text_neg'].append(text_sentiment['neg'])\n",
    "    except AttributeError:\n",
    "        pass\n",
    "    \n",
    "btc_sentiment_df = pd.DataFrame(text_sent)\n",
    "\n",
    "btc_df = btc_df.join(btc_sentiment_df)\n",
    "\n",
    "btc_df.columns = ['Article','Compound','Positive','Neutral','Negative']\n",
    "\n",
    "btc_df.head()"
   ]
  },
  {
   "cell_type": "code",
   "execution_count": 9,
   "metadata": {},
   "outputs": [
    {
     "data": {
      "text/html": [
       "<div>\n",
       "<style scoped>\n",
       "    .dataframe tbody tr th:only-of-type {\n",
       "        vertical-align: middle;\n",
       "    }\n",
       "\n",
       "    .dataframe tbody tr th {\n",
       "        vertical-align: top;\n",
       "    }\n",
       "\n",
       "    .dataframe thead th {\n",
       "        text-align: right;\n",
       "    }\n",
       "</style>\n",
       "<table border=\"1\" class=\"dataframe\">\n",
       "  <thead>\n",
       "    <tr style=\"text-align: right;\">\n",
       "      <th></th>\n",
       "      <th>Article</th>\n",
       "      <th>Compound</th>\n",
       "      <th>Positive</th>\n",
       "      <th>Neutral</th>\n",
       "      <th>Negative</th>\n",
       "    </tr>\n",
       "  </thead>\n",
       "  <tbody>\n",
       "    <tr>\n",
       "      <th>0</th>\n",
       "      <td>Its the countrys latest crackdown on digital c...</td>\n",
       "      <td>0.0000</td>\n",
       "      <td>0.000</td>\n",
       "      <td>1.000</td>\n",
       "      <td>0.000</td>\n",
       "    </tr>\n",
       "    <tr>\n",
       "      <th>1</th>\n",
       "      <td>As the broader crypto world enjoys a late summ...</td>\n",
       "      <td>0.7351</td>\n",
       "      <td>0.167</td>\n",
       "      <td>0.833</td>\n",
       "      <td>0.000</td>\n",
       "    </tr>\n",
       "    <tr>\n",
       "      <th>2</th>\n",
       "      <td>You won't have to stick to Bitcoin if you're d...</td>\n",
       "      <td>0.5574</td>\n",
       "      <td>0.127</td>\n",
       "      <td>0.838</td>\n",
       "      <td>0.036</td>\n",
       "    </tr>\n",
       "    <tr>\n",
       "      <th>3</th>\n",
       "      <td>OpenSea isn't wasting much time after its head...</td>\n",
       "      <td>0.2865</td>\n",
       "      <td>0.180</td>\n",
       "      <td>0.694</td>\n",
       "      <td>0.126</td>\n",
       "    </tr>\n",
       "    <tr>\n",
       "      <th>4</th>\n",
       "      <td>Robinhood plans to start a cryptocurrency wall...</td>\n",
       "      <td>0.4588</td>\n",
       "      <td>0.108</td>\n",
       "      <td>0.892</td>\n",
       "      <td>0.000</td>\n",
       "    </tr>\n",
       "  </tbody>\n",
       "</table>\n",
       "</div>"
      ],
      "text/plain": [
       "                                             Article  Compound  Positive  \\\n",
       "0  Its the countrys latest crackdown on digital c...    0.0000     0.000   \n",
       "1  As the broader crypto world enjoys a late summ...    0.7351     0.167   \n",
       "2  You won't have to stick to Bitcoin if you're d...    0.5574     0.127   \n",
       "3  OpenSea isn't wasting much time after its head...    0.2865     0.180   \n",
       "4  Robinhood plans to start a cryptocurrency wall...    0.4588     0.108   \n",
       "\n",
       "   Neutral  Negative  \n",
       "0    1.000     0.000  \n",
       "1    0.833     0.000  \n",
       "2    0.838     0.036  \n",
       "3    0.694     0.126  \n",
       "4    0.892     0.000  "
      ]
     },
     "execution_count": 9,
     "metadata": {},
     "output_type": "execute_result"
    }
   ],
   "source": [
    "# Create the Ethereum sentiment scores DataFrame\n",
    "\n",
    "# Sentiment scores dictionaries\n",
    "text_sent = {\n",
    "    'text_compound': [],\n",
    "    'text_pos': [],\n",
    "    'text_neu': [],\n",
    "    'text_neg': [],\n",
    "}\n",
    "\n",
    "# Get sentiment for the text and the title\n",
    "for index, row in eth_df.iterrows():\n",
    "    try:\n",
    "        text_sentiment = analyzer.polarity_scores(row['text'])\n",
    "        text_sent['text_compound'].append(text_sentiment['compound'])\n",
    "        text_sent['text_pos'].append(text_sentiment['pos'])\n",
    "        text_sent['text_neu'].append(text_sentiment['neu'])\n",
    "        text_sent['text_neg'].append(text_sentiment['neg'])\n",
    "    except AttributeError:\n",
    "        pass\n",
    "    \n",
    "eth_sentiment_df = pd.DataFrame(text_sent)\n",
    "\n",
    "eth_df = eth_df.join(eth_sentiment_df)\n",
    "\n",
    "eth_df.columns = ['Article','Compound','Positive','Neutral','Negative']\n",
    "\n",
    "eth_df.head()"
   ]
  },
  {
   "cell_type": "code",
   "execution_count": 10,
   "metadata": {},
   "outputs": [
    {
     "data": {
      "text/html": [
       "<div>\n",
       "<style scoped>\n",
       "    .dataframe tbody tr th:only-of-type {\n",
       "        vertical-align: middle;\n",
       "    }\n",
       "\n",
       "    .dataframe tbody tr th {\n",
       "        vertical-align: top;\n",
       "    }\n",
       "\n",
       "    .dataframe thead th {\n",
       "        text-align: right;\n",
       "    }\n",
       "</style>\n",
       "<table border=\"1\" class=\"dataframe\">\n",
       "  <thead>\n",
       "    <tr style=\"text-align: right;\">\n",
       "      <th></th>\n",
       "      <th>Compound</th>\n",
       "      <th>Positive</th>\n",
       "      <th>Neutral</th>\n",
       "      <th>Negative</th>\n",
       "    </tr>\n",
       "  </thead>\n",
       "  <tbody>\n",
       "    <tr>\n",
       "      <th>count</th>\n",
       "      <td>100.000000</td>\n",
       "      <td>100.000000</td>\n",
       "      <td>100.000000</td>\n",
       "      <td>100.000000</td>\n",
       "    </tr>\n",
       "    <tr>\n",
       "      <th>mean</th>\n",
       "      <td>0.092659</td>\n",
       "      <td>0.057760</td>\n",
       "      <td>0.910510</td>\n",
       "      <td>0.031720</td>\n",
       "    </tr>\n",
       "    <tr>\n",
       "      <th>std</th>\n",
       "      <td>0.338825</td>\n",
       "      <td>0.057786</td>\n",
       "      <td>0.075776</td>\n",
       "      <td>0.049094</td>\n",
       "    </tr>\n",
       "    <tr>\n",
       "      <th>min</th>\n",
       "      <td>-0.757900</td>\n",
       "      <td>0.000000</td>\n",
       "      <td>0.708000</td>\n",
       "      <td>0.000000</td>\n",
       "    </tr>\n",
       "    <tr>\n",
       "      <th>25%</th>\n",
       "      <td>0.000000</td>\n",
       "      <td>0.000000</td>\n",
       "      <td>0.863750</td>\n",
       "      <td>0.000000</td>\n",
       "    </tr>\n",
       "    <tr>\n",
       "      <th>50%</th>\n",
       "      <td>0.051600</td>\n",
       "      <td>0.049000</td>\n",
       "      <td>0.925500</td>\n",
       "      <td>0.000000</td>\n",
       "    </tr>\n",
       "    <tr>\n",
       "      <th>75%</th>\n",
       "      <td>0.340000</td>\n",
       "      <td>0.094250</td>\n",
       "      <td>0.974500</td>\n",
       "      <td>0.055750</td>\n",
       "    </tr>\n",
       "    <tr>\n",
       "      <th>max</th>\n",
       "      <td>0.855500</td>\n",
       "      <td>0.240000</td>\n",
       "      <td>1.000000</td>\n",
       "      <td>0.208000</td>\n",
       "    </tr>\n",
       "  </tbody>\n",
       "</table>\n",
       "</div>"
      ],
      "text/plain": [
       "         Compound    Positive     Neutral    Negative\n",
       "count  100.000000  100.000000  100.000000  100.000000\n",
       "mean     0.092659    0.057760    0.910510    0.031720\n",
       "std      0.338825    0.057786    0.075776    0.049094\n",
       "min     -0.757900    0.000000    0.708000    0.000000\n",
       "25%      0.000000    0.000000    0.863750    0.000000\n",
       "50%      0.051600    0.049000    0.925500    0.000000\n",
       "75%      0.340000    0.094250    0.974500    0.055750\n",
       "max      0.855500    0.240000    1.000000    0.208000"
      ]
     },
     "execution_count": 10,
     "metadata": {},
     "output_type": "execute_result"
    }
   ],
   "source": [
    "# Describe the Bitcoin Sentiment\n",
    "btc_df.describe()"
   ]
  },
  {
   "cell_type": "code",
   "execution_count": 11,
   "metadata": {},
   "outputs": [
    {
     "data": {
      "text/html": [
       "<div>\n",
       "<style scoped>\n",
       "    .dataframe tbody tr th:only-of-type {\n",
       "        vertical-align: middle;\n",
       "    }\n",
       "\n",
       "    .dataframe tbody tr th {\n",
       "        vertical-align: top;\n",
       "    }\n",
       "\n",
       "    .dataframe thead th {\n",
       "        text-align: right;\n",
       "    }\n",
       "</style>\n",
       "<table border=\"1\" class=\"dataframe\">\n",
       "  <thead>\n",
       "    <tr style=\"text-align: right;\">\n",
       "      <th></th>\n",
       "      <th>Compound</th>\n",
       "      <th>Positive</th>\n",
       "      <th>Neutral</th>\n",
       "      <th>Negative</th>\n",
       "    </tr>\n",
       "  </thead>\n",
       "  <tbody>\n",
       "    <tr>\n",
       "      <th>count</th>\n",
       "      <td>100.000000</td>\n",
       "      <td>100.000000</td>\n",
       "      <td>100.000000</td>\n",
       "      <td>100.000000</td>\n",
       "    </tr>\n",
       "    <tr>\n",
       "      <th>mean</th>\n",
       "      <td>0.128007</td>\n",
       "      <td>0.065580</td>\n",
       "      <td>0.902200</td>\n",
       "      <td>0.032230</td>\n",
       "    </tr>\n",
       "    <tr>\n",
       "      <th>std</th>\n",
       "      <td>0.384321</td>\n",
       "      <td>0.073638</td>\n",
       "      <td>0.087955</td>\n",
       "      <td>0.054529</td>\n",
       "    </tr>\n",
       "    <tr>\n",
       "      <th>min</th>\n",
       "      <td>-0.893400</td>\n",
       "      <td>0.000000</td>\n",
       "      <td>0.688000</td>\n",
       "      <td>0.000000</td>\n",
       "    </tr>\n",
       "    <tr>\n",
       "      <th>25%</th>\n",
       "      <td>0.000000</td>\n",
       "      <td>0.000000</td>\n",
       "      <td>0.838000</td>\n",
       "      <td>0.000000</td>\n",
       "    </tr>\n",
       "    <tr>\n",
       "      <th>50%</th>\n",
       "      <td>0.000000</td>\n",
       "      <td>0.054500</td>\n",
       "      <td>0.913000</td>\n",
       "      <td>0.000000</td>\n",
       "    </tr>\n",
       "    <tr>\n",
       "      <th>75%</th>\n",
       "      <td>0.421500</td>\n",
       "      <td>0.108000</td>\n",
       "      <td>1.000000</td>\n",
       "      <td>0.064000</td>\n",
       "    </tr>\n",
       "    <tr>\n",
       "      <th>max</th>\n",
       "      <td>0.941300</td>\n",
       "      <td>0.308000</td>\n",
       "      <td>1.000000</td>\n",
       "      <td>0.312000</td>\n",
       "    </tr>\n",
       "  </tbody>\n",
       "</table>\n",
       "</div>"
      ],
      "text/plain": [
       "         Compound    Positive     Neutral    Negative\n",
       "count  100.000000  100.000000  100.000000  100.000000\n",
       "mean     0.128007    0.065580    0.902200    0.032230\n",
       "std      0.384321    0.073638    0.087955    0.054529\n",
       "min     -0.893400    0.000000    0.688000    0.000000\n",
       "25%      0.000000    0.000000    0.838000    0.000000\n",
       "50%      0.000000    0.054500    0.913000    0.000000\n",
       "75%      0.421500    0.108000    1.000000    0.064000\n",
       "max      0.941300    0.308000    1.000000    0.312000"
      ]
     },
     "execution_count": 11,
     "metadata": {},
     "output_type": "execute_result"
    }
   ],
   "source": [
    "# Describe the Ethereum Sentiment\n",
    "eth_df.describe()"
   ]
  },
  {
   "cell_type": "markdown",
   "metadata": {},
   "source": [
    "### Questions:\n",
    "\n",
    "Q: Which coin had the highest mean positive score?\n",
    "\n",
    "A: BTC\n",
    "\n",
    "Q: Which coin had the highest compound score?\n",
    "\n",
    "A: BTC\n",
    "\n",
    "Q. Which coin had the highest positive score?\n",
    "\n",
    "A: BTC"
   ]
  },
  {
   "cell_type": "markdown",
   "metadata": {},
   "source": [
    "---"
   ]
  },
  {
   "cell_type": "markdown",
   "metadata": {},
   "source": [
    "## 2. Natural Language Processing\n",
    "---\n",
    "###   Tokenizer\n",
    "\n",
    "In this section, you will use NLTK and Python to tokenize the text for each coin. Be sure to:\n",
    "1. Lowercase each word.\n",
    "2. Remove Punctuation.\n",
    "3. Remove Stopwords."
   ]
  },
  {
   "cell_type": "code",
   "execution_count": 12,
   "metadata": {},
   "outputs": [],
   "source": [
    "from nltk.tokenize import word_tokenize, sent_tokenize\n",
    "from nltk.corpus import stopwords\n",
    "from nltk.stem import WordNetLemmatizer, PorterStemmer\n",
    "from string import punctuation\n",
    "import re"
   ]
  },
  {
   "cell_type": "code",
   "execution_count": 13,
   "metadata": {},
   "outputs": [],
   "source": [
    "# Instantiate the lemmatizer\n",
    "lemmatizer = WordNetLemmatizer()\n",
    "# Create a list of stopwords\n",
    "sw = set(stopwords.words('english'))\n",
    "\n",
    "# Expand the default stopwords list if necessary\n",
    "sw_addons = {'said', 'sent', 'today', 'week', 'also', 'el', 'salvador',}\n",
    "\n",
    "# Expand the default stopwords list if necessary\n"
   ]
  },
  {
   "cell_type": "code",
   "execution_count": 14,
   "metadata": {},
   "outputs": [],
   "source": [
    "# Complete the tokenizer function\n",
    "def tokenizer(text):\n",
    "    \"\"\"Tokenizes text.\"\"\"\n",
    "    \n",
    "    # Remove the punctuation from text\n",
    "    regex = re.compile(\"[^a-zA-z]\")\n",
    "    clean_text = regex.sub('', text)\n",
    "   \n",
    "    # Create a tokenized list of the words\n",
    "    sentence = sent_tokenize(clean_text)\n",
    "    words = []\n",
    "    for sent in sentence:\n",
    "        word = word_tokenize(sent)\n",
    "        words = words + word\n",
    "   \n",
    "    # Convert the words to lowercase\n",
    "    words_lc = [word.lower() for word in words]\n",
    "    \n",
    "    # Remove the stop words\n",
    "    sw = set(stopwords.words('english'))\n",
    "    words_sw = [word for word in words_lc if word not in sw]\n",
    "    \n",
    "    # Lemmatize words into root words\n",
    "    tokens = [lemmatizer.lemmatize(word) for word in words_sw]\n",
    "    \n",
    "    return tokens"
   ]
  },
  {
   "cell_type": "code",
   "execution_count": 15,
   "metadata": {
    "tags": []
   },
   "outputs": [
    {
     "data": {
      "text/html": [
       "<div>\n",
       "<style scoped>\n",
       "    .dataframe tbody tr th:only-of-type {\n",
       "        vertical-align: middle;\n",
       "    }\n",
       "\n",
       "    .dataframe tbody tr th {\n",
       "        vertical-align: top;\n",
       "    }\n",
       "\n",
       "    .dataframe thead th {\n",
       "        text-align: right;\n",
       "    }\n",
       "</style>\n",
       "<table border=\"1\" class=\"dataframe\">\n",
       "  <thead>\n",
       "    <tr style=\"text-align: right;\">\n",
       "      <th></th>\n",
       "      <th>Article</th>\n",
       "      <th>Compound</th>\n",
       "      <th>Positive</th>\n",
       "      <th>Neutral</th>\n",
       "      <th>Negative</th>\n",
       "      <th>Tokens</th>\n",
       "    </tr>\n",
       "  </thead>\n",
       "  <tbody>\n",
       "    <tr>\n",
       "      <th>0</th>\n",
       "      <td>You won't have to stick to Bitcoin if you're d...</td>\n",
       "      <td>0.5574</td>\n",
       "      <td>0.127</td>\n",
       "      <td>0.838</td>\n",
       "      <td>0.036</td>\n",
       "      <td>[youwonthavetosticktobitcoinifyouredeterminedt...</td>\n",
       "    </tr>\n",
       "    <tr>\n",
       "      <th>1</th>\n",
       "      <td>Four months after Twitter first introduced in-...</td>\n",
       "      <td>0.0000</td>\n",
       "      <td>0.000</td>\n",
       "      <td>1.000</td>\n",
       "      <td>0.000</td>\n",
       "      <td>[fourmonthsaftertwitterfirstintroducedinapptip...</td>\n",
       "    </tr>\n",
       "    <tr>\n",
       "      <th>2</th>\n",
       "      <td>Its the countrys latest crackdown on digital c...</td>\n",
       "      <td>0.0000</td>\n",
       "      <td>0.000</td>\n",
       "      <td>1.000</td>\n",
       "      <td>0.000</td>\n",
       "      <td>[itsthecountryslatestcrackdownondigitalcurrenc...</td>\n",
       "    </tr>\n",
       "    <tr>\n",
       "      <th>3</th>\n",
       "      <td>A recently-installed Bitcoin ATM.\\r\\n\\n \\n\\n A...</td>\n",
       "      <td>0.1779</td>\n",
       "      <td>0.052</td>\n",
       "      <td>0.948</td>\n",
       "      <td>0.000</td>\n",
       "      <td>[arecentlyinstalledbitcoinatmasoftodaybitcoini...</td>\n",
       "    </tr>\n",
       "    <tr>\n",
       "      <th>4</th>\n",
       "      <td>The government of El Salvador purchased at lea...</td>\n",
       "      <td>0.1280</td>\n",
       "      <td>0.046</td>\n",
       "      <td>0.954</td>\n",
       "      <td>0.000</td>\n",
       "      <td>[thegovernmentofelsalvadorpurchasedatleastbitc...</td>\n",
       "    </tr>\n",
       "  </tbody>\n",
       "</table>\n",
       "</div>"
      ],
      "text/plain": [
       "                                             Article  Compound  Positive  \\\n",
       "0  You won't have to stick to Bitcoin if you're d...    0.5574     0.127   \n",
       "1  Four months after Twitter first introduced in-...    0.0000     0.000   \n",
       "2  Its the countrys latest crackdown on digital c...    0.0000     0.000   \n",
       "3  A recently-installed Bitcoin ATM.\\r\\n\\n \\n\\n A...    0.1779     0.052   \n",
       "4  The government of El Salvador purchased at lea...    0.1280     0.046   \n",
       "\n",
       "   Neutral  Negative                                             Tokens  \n",
       "0    0.838     0.036  [youwonthavetosticktobitcoinifyouredeterminedt...  \n",
       "1    1.000     0.000  [fourmonthsaftertwitterfirstintroducedinapptip...  \n",
       "2    1.000     0.000  [itsthecountryslatestcrackdownondigitalcurrenc...  \n",
       "3    0.948     0.000  [arecentlyinstalledbitcoinatmasoftodaybitcoini...  \n",
       "4    0.954     0.000  [thegovernmentofelsalvadorpurchasedatleastbitc...  "
      ]
     },
     "execution_count": 15,
     "metadata": {},
     "output_type": "execute_result"
    }
   ],
   "source": [
    "# Create a new tokens column for Bitcoin\n",
    "btc_df['Tokens'] = [tokenizer(text) for text in btc_df['Article']]\n",
    "btc_df.head()"
   ]
  },
  {
   "cell_type": "code",
   "execution_count": 16,
   "metadata": {},
   "outputs": [
    {
     "data": {
      "text/html": [
       "<div>\n",
       "<style scoped>\n",
       "    .dataframe tbody tr th:only-of-type {\n",
       "        vertical-align: middle;\n",
       "    }\n",
       "\n",
       "    .dataframe tbody tr th {\n",
       "        vertical-align: top;\n",
       "    }\n",
       "\n",
       "    .dataframe thead th {\n",
       "        text-align: right;\n",
       "    }\n",
       "</style>\n",
       "<table border=\"1\" class=\"dataframe\">\n",
       "  <thead>\n",
       "    <tr style=\"text-align: right;\">\n",
       "      <th></th>\n",
       "      <th>Article</th>\n",
       "      <th>Compound</th>\n",
       "      <th>Positive</th>\n",
       "      <th>Neutral</th>\n",
       "      <th>Negative</th>\n",
       "      <th>Tokens</th>\n",
       "    </tr>\n",
       "  </thead>\n",
       "  <tbody>\n",
       "    <tr>\n",
       "      <th>0</th>\n",
       "      <td>Its the countrys latest crackdown on digital c...</td>\n",
       "      <td>0.0000</td>\n",
       "      <td>0.000</td>\n",
       "      <td>1.000</td>\n",
       "      <td>0.000</td>\n",
       "      <td>[itsthecountryslatestcrackdownondigitalcurrenc...</td>\n",
       "    </tr>\n",
       "    <tr>\n",
       "      <th>1</th>\n",
       "      <td>As the broader crypto world enjoys a late summ...</td>\n",
       "      <td>0.7351</td>\n",
       "      <td>0.167</td>\n",
       "      <td>0.833</td>\n",
       "      <td>0.000</td>\n",
       "      <td>[asthebroadercryptoworldenjoysalatesummersurge...</td>\n",
       "    </tr>\n",
       "    <tr>\n",
       "      <th>2</th>\n",
       "      <td>You won't have to stick to Bitcoin if you're d...</td>\n",
       "      <td>0.5574</td>\n",
       "      <td>0.127</td>\n",
       "      <td>0.838</td>\n",
       "      <td>0.036</td>\n",
       "      <td>[youwonthavetosticktobitcoinifyouredeterminedt...</td>\n",
       "    </tr>\n",
       "    <tr>\n",
       "      <th>3</th>\n",
       "      <td>OpenSea isn't wasting much time after its head...</td>\n",
       "      <td>0.2865</td>\n",
       "      <td>0.180</td>\n",
       "      <td>0.694</td>\n",
       "      <td>0.126</td>\n",
       "      <td>[openseaisntwastingmuchtimeafteritsheadofprodu...</td>\n",
       "    </tr>\n",
       "    <tr>\n",
       "      <th>4</th>\n",
       "      <td>Robinhood plans to start a cryptocurrency wall...</td>\n",
       "      <td>0.4588</td>\n",
       "      <td>0.108</td>\n",
       "      <td>0.892</td>\n",
       "      <td>0.000</td>\n",
       "      <td>[robinhoodplanstostartacryptocurrencywalletnex...</td>\n",
       "    </tr>\n",
       "  </tbody>\n",
       "</table>\n",
       "</div>"
      ],
      "text/plain": [
       "                                             Article  Compound  Positive  \\\n",
       "0  Its the countrys latest crackdown on digital c...    0.0000     0.000   \n",
       "1  As the broader crypto world enjoys a late summ...    0.7351     0.167   \n",
       "2  You won't have to stick to Bitcoin if you're d...    0.5574     0.127   \n",
       "3  OpenSea isn't wasting much time after its head...    0.2865     0.180   \n",
       "4  Robinhood plans to start a cryptocurrency wall...    0.4588     0.108   \n",
       "\n",
       "   Neutral  Negative                                             Tokens  \n",
       "0    1.000     0.000  [itsthecountryslatestcrackdownondigitalcurrenc...  \n",
       "1    0.833     0.000  [asthebroadercryptoworldenjoysalatesummersurge...  \n",
       "2    0.838     0.036  [youwonthavetosticktobitcoinifyouredeterminedt...  \n",
       "3    0.694     0.126  [openseaisntwastingmuchtimeafteritsheadofprodu...  \n",
       "4    0.892     0.000  [robinhoodplanstostartacryptocurrencywalletnex...  "
      ]
     },
     "execution_count": 16,
     "metadata": {},
     "output_type": "execute_result"
    }
   ],
   "source": [
    "# Create a new tokens column for Ethereum\n",
    "eth_df['Tokens'] = [tokenizer(text) for text in eth_df['Article']]\n",
    "eth_df.head()"
   ]
  },
  {
   "cell_type": "markdown",
   "metadata": {},
   "source": [
    "---"
   ]
  },
  {
   "cell_type": "markdown",
   "metadata": {},
   "source": [
    "### NGrams and Frequency Analysis\n",
    "\n",
    "In this section you will look at the ngrams and word frequency for each coin. \n",
    "\n",
    "1. Use NLTK to produce the n-grams for N = 2. \n",
    "2. List the top 10 words for each coin. "
   ]
  },
  {
   "cell_type": "code",
   "execution_count": 17,
   "metadata": {},
   "outputs": [],
   "source": [
    "from collections import Counter\n",
    "from nltk import ngrams"
   ]
  },
  {
   "cell_type": "code",
   "execution_count": 18,
   "metadata": {},
   "outputs": [
    {
     "data": {
      "text/plain": [
       "[(('[', 'char'), 96),\n",
       " (('char', ']'), 96),\n",
       " (('youwonthavetosticktobitcoinifyouredeterminedtopayforyourmovieticketwithcryptocurrencyamcchiefadamaronhasrevealedhistheaterchainwillalsoacceptethereumlitecoinandbi',\n",
       "   '['),\n",
       "  1),\n",
       " ((']',\n",
       "   'fourmonthsaftertwitterfirstintroducedinapptippingthecompanyisexpandingitstipjarfeatureinamajorwaythecompanyisopeninguptippingtoallitsusersgloballyandforthefirst'),\n",
       "  1),\n",
       " (('fourmonthsaftertwitterfirstintroducedinapptippingthecompanyisexpandingitstipjarfeatureinamajorwaythecompanyisopeninguptippingtoallitsusersgloballyandforthefirst',\n",
       "   '['),\n",
       "  1),\n",
       " ((']',\n",
       "   'itsthecountryslatestcrackdownondigitalcurrenciesillustrationbyalexcastrothevergethepeoplesbankofchinathecountryscentralbanksaidfridaythatcryptocurrencytransactionsar'),\n",
       "  1),\n",
       " (('itsthecountryslatestcrackdownondigitalcurrenciesillustrationbyalexcastrothevergethepeoplesbankofchinathecountryscentralbanksaidfridaythatcryptocurrencytransactionsar',\n",
       "   '['),\n",
       "  1),\n",
       " ((']',\n",
       "   'arecentlyinstalledbitcoinatmasoftodaybitcoinisanofficialcurrencyofelsalvadoralongsidetheusdollarafterthecentralamericancountrybecamethefirsttoadoptthecryptocur'),\n",
       "  1),\n",
       " (('arecentlyinstalledbitcoinatmasoftodaybitcoinisanofficialcurrencyofelsalvadoralongsidetheusdollarafterthecentralamericancountrybecamethefirsttoadoptthecryptocur',\n",
       "   '['),\n",
       "  1),\n",
       " ((']',\n",
       "   'thegovernmentofelsalvadorpurchasedatleastbitcoinrecentlyaheadofthecountryofficiallyrecognizingbitcoinasaformoflegalcurrencyontuesdaythepurchasebringsthegovernments'),\n",
       "  1)]"
      ]
     },
     "execution_count": 18,
     "metadata": {},
     "output_type": "execute_result"
    }
   ],
   "source": [
    "# Generate the Bitcoin N-grams where N=2\n",
    "big_string = ' '.join(btc_df['Article'])\n",
    "processed = tokenizer(big_string)\n",
    "bigrams = ngrams(processed, n=2)\n",
    "Counter(bigrams).most_common(10)"
   ]
  },
  {
   "cell_type": "code",
   "execution_count": 19,
   "metadata": {},
   "outputs": [
    {
     "data": {
      "text/plain": [
       "[(('[', 'char'), 100),\n",
       " (('char', ']'), 100),\n",
       " ((']',\n",
       "   'personalfinanceinsiderwritesaboutproductsstrategiesandtipstohelpyoumakesmartdecisionswithyourmoneywemayreceiveasmallcommissionfromourpartnerslikeamericanexpressbut'),\n",
       "  3),\n",
       " (('personalfinanceinsiderwritesaboutproductsstrategiesandtipstohelpyoumakesmartdecisionswithyourmoneywemayreceiveasmallcommissionfromourpartnerslikeamericanexpressbut',\n",
       "   '['),\n",
       "  3),\n",
       " ((']',\n",
       "   'augreutersthefirstcryptocurrencyatminhondurasopenedthisweekasbitcoinbackerssoughttospurdemandforvirtualassetsafterneighboringelsalvadorbecamethefirstcountrytoesta'),\n",
       "  2),\n",
       " (('augreutersthefirstcryptocurrencyatminhondurasopenedthisweekasbitcoinbackerssoughttospurdemandforvirtualassetsafterneighboringelsalvadorbecamethefirstcountrytoesta',\n",
       "   '['),\n",
       "  2),\n",
       " (('itsthecountryslatestcrackdownondigitalcurrenciesillustrationbyalexcastrothevergethepeoplesbankofchinathecountryscentralbanksaidfridaythatcryptocurrencytransactionsar',\n",
       "   '['),\n",
       "  1),\n",
       " ((']',\n",
       "   'asthebroadercryptoworldenjoysalatesummersurgeinenthusiasmmoreandmoreblockchaindeveloperswhohavetakentheplungearebumpingintotheblaringscalingissuesfacedbydecentralized'),\n",
       "  1),\n",
       " (('asthebroadercryptoworldenjoysalatesummersurgeinenthusiasmmoreandmoreblockchaindeveloperswhohavetakentheplungearebumpingintotheblaringscalingissuesfacedbydecentralized',\n",
       "   '['),\n",
       "  1),\n",
       " ((']',\n",
       "   'youwonthavetosticktobitcoinifyouredeterminedtopayforyourmovieticketwithcryptocurrencyamcchiefadamaronhasrevealedhistheaterchainwillalsoacceptethereumlitecoinandbi'),\n",
       "  1)]"
      ]
     },
     "execution_count": 19,
     "metadata": {},
     "output_type": "execute_result"
    }
   ],
   "source": [
    "# Generate the Ethereum N-grams where N=2\n",
    "big_string = ' '.join(eth_df['Article'])\n",
    "processed = tokenizer(big_string)\n",
    "bigrams = ngrams(processed, n=2)\n",
    "Counter(bigrams).most_common(10)"
   ]
  },
  {
   "cell_type": "code",
   "execution_count": 20,
   "metadata": {},
   "outputs": [],
   "source": [
    "# Function token_count generates the top 10 words for a given coin\n",
    "def token_count(tokens, N=3):\n",
    "    \"\"\"Returns the top N tokens from the frequency count\"\"\"\n",
    "    return Counter(tokens).most_common(N)"
   ]
  },
  {
   "cell_type": "code",
   "execution_count": 21,
   "metadata": {},
   "outputs": [
    {
     "data": {
      "text/plain": [
       "[('[', 97), (']', 97), ('char', 96)]"
      ]
     },
     "execution_count": 21,
     "metadata": {},
     "output_type": "execute_result"
    }
   ],
   "source": [
    "# Use token_count to get the top 10 words for Bitcoin\n",
    "big_string = ' '.join(btc_df[\"Article\"])\n",
    "processed = tokenizer(big_string)\n",
    "token_count(processed)"
   ]
  },
  {
   "cell_type": "code",
   "execution_count": 22,
   "metadata": {},
   "outputs": [
    {
     "data": {
      "text/plain": [
       "[('[', 101), (']', 101), ('char', 100)]"
      ]
     },
     "execution_count": 22,
     "metadata": {},
     "output_type": "execute_result"
    }
   ],
   "source": [
    "# Use token_count to get the top 10 words for Ethereum\n",
    "big_string = ' '.join(eth_df['Article'])\n",
    "processed = tokenizer(big_string)\n",
    "token_count(processed)"
   ]
  },
  {
   "cell_type": "markdown",
   "metadata": {},
   "source": [
    "---"
   ]
  },
  {
   "cell_type": "markdown",
   "metadata": {},
   "source": [
    "### Word Clouds\n",
    "\n",
    "In this section, you will generate word clouds for each coin to summarize the news for each coin"
   ]
  },
  {
   "cell_type": "code",
   "execution_count": 23,
   "metadata": {},
   "outputs": [],
   "source": [
    "from wordcloud import WordCloud\n",
    "import matplotlib.pyplot as plt\n",
    "plt.style.use('seaborn-whitegrid')\n",
    "import matplotlib as mpl\n",
    "mpl.rcParams['figure.figsize'] = [20.0, 10.0]"
   ]
  },
  {
   "cell_type": "code",
   "execution_count": 24,
   "metadata": {},
   "outputs": [
    {
     "data": {
      "text/plain": [
       "<matplotlib.image.AxesImage at 0x1dba338e520>"
      ]
     },
     "execution_count": 24,
     "metadata": {},
     "output_type": "execute_result"
    },
    {
     "data": {
      "image/png": "[encoded data removed]",
      "text/plain": [
       "<Figure size 1440x720 with 1 Axes>"
      ]
     },
     "metadata": {},
     "output_type": "display_data"
    }
   ],
   "source": [
    "# Generate the Bitcoin word cloud\n",
    "big_string = ' '.join(btc_df['Article'])\n",
    "processed = tokenizer(big_string)\n",
    "input_text = ' '.join(processed)\n",
    "wc = WordCloud().generate(input_text)\n",
    "plt.imshow(wc)"
   ]
  },
  {
   "cell_type": "code",
   "execution_count": null,
   "metadata": {},
   "outputs": [],
   "source": [
    "# Generate the Ethereum word cloud\n",
    "big_string = ' '.join(eth_df['Article'])\n",
    "processed = tokenizer(big_string)\n",
    "input_text = ' '.join(processed)\n",
    "wc = WordCloud().generate(input_text)\n",
    "plt.imshow(wc)"
   ]
  },
  {
   "cell_type": "markdown",
   "metadata": {},
   "source": [
    "---\n",
    "## 3. Named Entity Recognition\n",
    "\n",
    "In this section, you will build a named entity recognition model for both Bitcoin and Ethereum, then visualize the tags using SpaCy."
   ]
  },
  {
   "cell_type": "code",
   "execution_count": null,
   "metadata": {},
   "outputs": [],
   "source": [
    "!pip install spacy\n",
    "import spacy\n",
    "from spacy import displacy"
   ]
  },
  {
   "cell_type": "code",
   "execution_count": null,
   "metadata": {},
   "outputs": [],
   "source": [
    "# Download the language model for SpaCy\n",
    "# !python -m spacy download en_core_web_sm"
   ]
  },
  {
   "cell_type": "code",
   "execution_count": null,
   "metadata": {},
   "outputs": [],
   "source": [
    "# Load the spaCy model\n",
    "nlp = spacy.load('en_core_web_sm')"
   ]
  },
  {
   "cell_type": "markdown",
   "metadata": {},
   "source": [
    "---\n",
    "### Bitcoin NER"
   ]
  },
  {
   "cell_type": "code",
   "execution_count": null,
   "metadata": {},
   "outputs": [],
   "source": [
    "# Concatenate all of the Bitcoin text together\n",
    "btc_text = ' '.join(btc_df['Article'])\n",
    "btc_text"
   ]
  },
  {
   "cell_type": "code",
   "execution_count": null,
   "metadata": {},
   "outputs": [],
   "source": [
    "# Run the NER processor on all of the text\n",
    "doc = nlp(btc_text)\n",
    "\n",
    "# Add a title to the document\n",
    "doc.user_data[\"title\"] = \"Bitcoin NER\""
   ]
  },
  {
   "cell_type": "code",
   "execution_count": null,
   "metadata": {},
   "outputs": [],
   "source": [
    "# Render the visualization\n",
    "displacy.render(doc, style='ent')"
   ]
  },
  {
   "cell_type": "code",
   "execution_count": null,
   "metadata": {},
   "outputs": [],
   "source": [
    "# List all Entities\n",
    "for ent in doc.ents:\n",
    "    print (ent.text, ent.label_)"
   ]
  },
  {
   "cell_type": "markdown",
   "metadata": {},
   "source": [
    "---"
   ]
  },
  {
   "cell_type": "markdown",
   "metadata": {},
   "source": [
    "### Ethereum NER"
   ]
  },
  {
   "cell_type": "code",
   "execution_count": null,
   "metadata": {},
   "outputs": [],
   "source": [
    "# Concatenate all of the Ethereum text together\n",
    "eth_text = ' '.join(eth_df['Article'])\n",
    "eth_text"
   ]
  },
  {
   "cell_type": "code",
   "execution_count": null,
   "metadata": {},
   "outputs": [],
   "source": [
    "# Run the NER processor on all of the text\n",
    "doc = nlp(eth_text)\n",
    "\n",
    "# Add a title to the document\n",
    "doc.user_data[\"title\"] = \"Ethereum NER\""
   ]
  },
  {
   "cell_type": "code",
   "execution_count": null,
   "metadata": {},
   "outputs": [],
   "source": [
    "# Render the visualization\n",
    "displacy.render(doc, style='ent')"
   ]
  },
  {
   "cell_type": "code",
   "execution_count": null,
   "metadata": {},
   "outputs": [],
   "source": [
    "# List all Entities\n",
    "for ent in doc.ents:\n",
    "    print (ent.text, ent.label_)"
   ]
  },
  {
   "cell_type": "markdown",
   "metadata": {},
   "source": [
    "---"
   ]
  }
 ],
 "metadata": {
  "file_extension": ".py",
  "kernelspec": {
   "display_name": "Python 3",
   "language": "python",
   "name": "python3"
  },
  "language_info": {
   "codemirror_mode": {
    "name": "ipython",
    "version": 3
   },
   "file_extension": ".py",
   "mimetype": "text/x-python",
   "name": "python",
   "nbconvert_exporter": "python",
   "pygments_lexer": "ipython3",
   "version": "3.8.5"
  },
  "mimetype": "text/x-python",
  "name": "python",
  "npconvert_exporter": "python",
  "pygments_lexer": "ipython3",
  "version": 3
 },
 "nbformat": 4,
 "nbformat_minor": 4
}
